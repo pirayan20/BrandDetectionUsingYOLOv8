{
  "nbformat": 4,
  "nbformat_minor": 0,
  "metadata": {
    "colab": {
      "provenance": [],
      "gpuType": "T4"
    },
    "kernelspec": {
      "name": "python3",
      "display_name": "Python 3"
    },
    "language_info": {
      "name": "python"
    },
    "accelerator": "GPU"
  },
  "cells": [
    {
      "cell_type": "markdown",
      "source": [
        "# Download & Import libraries"
      ],
      "metadata": {
        "id": "vHuMNEhDmOlq"
      }
    },
    {
      "cell_type": "code",
      "execution_count": 1,
      "metadata": {
        "colab": {
          "base_uri": "https://localhost:8080/"
        },
        "id": "DuvW1KlSGl_S",
        "outputId": "ba23f086-863b-4b3e-90c3-77f4b7c1e223"
      },
      "outputs": [
        {
          "output_type": "stream",
          "name": "stdout",
          "text": [
            "Collecting ultralytics\n",
            "  Downloading ultralytics-8.0.227-py3-none-any.whl (660 kB)\n",
            "\u001b[?25l     \u001b[90m━━━━━━━━━━━━━━━━━━━━━━━━━━━━━━━━━━━━━━━━\u001b[0m \u001b[32m0.0/660.5 kB\u001b[0m \u001b[31m?\u001b[0m eta \u001b[36m-:--:--\u001b[0m\r\u001b[2K     \u001b[91m━━━━━━━━━━━━\u001b[0m\u001b[90m╺\u001b[0m\u001b[90m━━━━━━━━━━━━━━━━━━━━━━━━━━━\u001b[0m \u001b[32m204.8/660.5 kB\u001b[0m \u001b[31m6.1 MB/s\u001b[0m eta \u001b[36m0:00:01\u001b[0m\r\u001b[2K     \u001b[91m━━━━━━━━━━━━━━━━━━━━━━━━━━━━━━━━━━━━━━━\u001b[0m\u001b[91m╸\u001b[0m \u001b[32m655.4/660.5 kB\u001b[0m \u001b[31m10.5 MB/s\u001b[0m eta \u001b[36m0:00:01\u001b[0m\r\u001b[2K     \u001b[90m━━━━━━━━━━━━━━━━━━━━━━━━━━━━━━━━━━━━━━━━\u001b[0m \u001b[32m660.5/660.5 kB\u001b[0m \u001b[31m9.0 MB/s\u001b[0m eta \u001b[36m0:00:00\u001b[0m\n",
            "\u001b[?25hRequirement already satisfied: matplotlib>=3.3.0 in /usr/local/lib/python3.10/dist-packages (from ultralytics) (3.7.1)\n",
            "Requirement already satisfied: numpy>=1.22.2 in /usr/local/lib/python3.10/dist-packages (from ultralytics) (1.23.5)\n",
            "Requirement already satisfied: opencv-python>=4.6.0 in /usr/local/lib/python3.10/dist-packages (from ultralytics) (4.8.0.76)\n",
            "Requirement already satisfied: pillow>=7.1.2 in /usr/local/lib/python3.10/dist-packages (from ultralytics) (9.4.0)\n",
            "Requirement already satisfied: pyyaml>=5.3.1 in /usr/local/lib/python3.10/dist-packages (from ultralytics) (6.0.1)\n",
            "Requirement already satisfied: requests>=2.23.0 in /usr/local/lib/python3.10/dist-packages (from ultralytics) (2.31.0)\n",
            "Requirement already satisfied: scipy>=1.4.1 in /usr/local/lib/python3.10/dist-packages (from ultralytics) (1.11.4)\n",
            "Requirement already satisfied: torch>=1.8.0 in /usr/local/lib/python3.10/dist-packages (from ultralytics) (2.1.0+cu118)\n",
            "Requirement already satisfied: torchvision>=0.9.0 in /usr/local/lib/python3.10/dist-packages (from ultralytics) (0.16.0+cu118)\n",
            "Requirement already satisfied: tqdm>=4.64.0 in /usr/local/lib/python3.10/dist-packages (from ultralytics) (4.66.1)\n",
            "Requirement already satisfied: pandas>=1.1.4 in /usr/local/lib/python3.10/dist-packages (from ultralytics) (1.5.3)\n",
            "Requirement already satisfied: seaborn>=0.11.0 in /usr/local/lib/python3.10/dist-packages (from ultralytics) (0.12.2)\n",
            "Requirement already satisfied: psutil in /usr/local/lib/python3.10/dist-packages (from ultralytics) (5.9.5)\n",
            "Requirement already satisfied: py-cpuinfo in /usr/local/lib/python3.10/dist-packages (from ultralytics) (9.0.0)\n",
            "Collecting thop>=0.1.1 (from ultralytics)\n",
            "  Downloading thop-0.1.1.post2209072238-py3-none-any.whl (15 kB)\n",
            "Requirement already satisfied: contourpy>=1.0.1 in /usr/local/lib/python3.10/dist-packages (from matplotlib>=3.3.0->ultralytics) (1.2.0)\n",
            "Requirement already satisfied: cycler>=0.10 in /usr/local/lib/python3.10/dist-packages (from matplotlib>=3.3.0->ultralytics) (0.12.1)\n",
            "Requirement already satisfied: fonttools>=4.22.0 in /usr/local/lib/python3.10/dist-packages (from matplotlib>=3.3.0->ultralytics) (4.46.0)\n",
            "Requirement already satisfied: kiwisolver>=1.0.1 in /usr/local/lib/python3.10/dist-packages (from matplotlib>=3.3.0->ultralytics) (1.4.5)\n",
            "Requirement already satisfied: packaging>=20.0 in /usr/local/lib/python3.10/dist-packages (from matplotlib>=3.3.0->ultralytics) (23.2)\n",
            "Requirement already satisfied: pyparsing>=2.3.1 in /usr/local/lib/python3.10/dist-packages (from matplotlib>=3.3.0->ultralytics) (3.1.1)\n",
            "Requirement already satisfied: python-dateutil>=2.7 in /usr/local/lib/python3.10/dist-packages (from matplotlib>=3.3.0->ultralytics) (2.8.2)\n",
            "Requirement already satisfied: pytz>=2020.1 in /usr/local/lib/python3.10/dist-packages (from pandas>=1.1.4->ultralytics) (2023.3.post1)\n",
            "Requirement already satisfied: charset-normalizer<4,>=2 in /usr/local/lib/python3.10/dist-packages (from requests>=2.23.0->ultralytics) (3.3.2)\n",
            "Requirement already satisfied: idna<4,>=2.5 in /usr/local/lib/python3.10/dist-packages (from requests>=2.23.0->ultralytics) (3.6)\n",
            "Requirement already satisfied: urllib3<3,>=1.21.1 in /usr/local/lib/python3.10/dist-packages (from requests>=2.23.0->ultralytics) (2.0.7)\n",
            "Requirement already satisfied: certifi>=2017.4.17 in /usr/local/lib/python3.10/dist-packages (from requests>=2.23.0->ultralytics) (2023.11.17)\n",
            "Requirement already satisfied: filelock in /usr/local/lib/python3.10/dist-packages (from torch>=1.8.0->ultralytics) (3.13.1)\n",
            "Requirement already satisfied: typing-extensions in /usr/local/lib/python3.10/dist-packages (from torch>=1.8.0->ultralytics) (4.5.0)\n",
            "Requirement already satisfied: sympy in /usr/local/lib/python3.10/dist-packages (from torch>=1.8.0->ultralytics) (1.12)\n",
            "Requirement already satisfied: networkx in /usr/local/lib/python3.10/dist-packages (from torch>=1.8.0->ultralytics) (3.2.1)\n",
            "Requirement already satisfied: jinja2 in /usr/local/lib/python3.10/dist-packages (from torch>=1.8.0->ultralytics) (3.1.2)\n",
            "Requirement already satisfied: fsspec in /usr/local/lib/python3.10/dist-packages (from torch>=1.8.0->ultralytics) (2023.6.0)\n",
            "Requirement already satisfied: triton==2.1.0 in /usr/local/lib/python3.10/dist-packages (from torch>=1.8.0->ultralytics) (2.1.0)\n",
            "Requirement already satisfied: six>=1.5 in /usr/local/lib/python3.10/dist-packages (from python-dateutil>=2.7->matplotlib>=3.3.0->ultralytics) (1.16.0)\n",
            "Requirement already satisfied: MarkupSafe>=2.0 in /usr/local/lib/python3.10/dist-packages (from jinja2->torch>=1.8.0->ultralytics) (2.1.3)\n",
            "Requirement already satisfied: mpmath>=0.19 in /usr/local/lib/python3.10/dist-packages (from sympy->torch>=1.8.0->ultralytics) (1.3.0)\n",
            "Installing collected packages: thop, ultralytics\n",
            "Successfully installed thop-0.1.1.post2209072238 ultralytics-8.0.227\n",
            "Downloading...\n",
            "From: https://drive.google.com/uc?id=1ez1Wf_62RlE4VfkuZm9JoUqWDrCrpHNS\n",
            "To: /content/LogoDet-64.zip\n",
            "100% 49.3M/49.3M [00:01<00:00, 31.0MB/s]\n",
            "Downloading...\n",
            "From: https://drive.google.com/uc?id=1w9NK059xnNzgpQTLpyLJwKCSV6ucbKfL\n",
            "To: /content/Brand_data.zip\n",
            "100% 36.1M/36.1M [00:02<00:00, 13.4MB/s]\n",
            "Downloading...\n",
            "From: https://drive.google.com/uc?id=16wXoUU8MTQbgnYVgsa14vy00nTxwpcKs\n",
            "To: /content/Brand_Data2.zip\n",
            "100% 21.1M/21.1M [00:01<00:00, 12.8MB/s]\n"
          ]
        }
      ],
      "source": [
        "!pip install ultralytics\n",
        "# !pip install -q kaggle\n",
        "!gdown 1ez1Wf_62RlE4VfkuZm9JoUqWDrCrpHNS # Train Data 64 classes\n",
        "!gdown 1w9NK059xnNzgpQTLpyLJwKCSV6ucbKfL # Test Data 1\n",
        "!gdown 16wXoUU8MTQbgnYVgsa14vy00nTxwpcKs # Test Data 2\n",
        "# !yolo predict model=yolov8n.pt source='https://ultralytics.com/images/bus.jpg' # test yolov8"
      ]
    },
    {
      "cell_type": "code",
      "source": [
        "import os\n",
        "import zipfile\n",
        "import shutil\n",
        "import yaml\n",
        "from bs4 import BeautifulSoup"
      ],
      "metadata": {
        "id": "umyUWFeXmfhe"
      },
      "execution_count": 2,
      "outputs": []
    },
    {
      "cell_type": "markdown",
      "source": [
        "# Kaggle API"
      ],
      "metadata": {
        "id": "KcuF-DTYnfBa"
      }
    },
    {
      "cell_type": "code",
      "source": [
        "# # Look at the tutorial on youtube\n",
        "# from google.colab import files\n",
        "# files.upload()\n",
        "\n",
        "# print(\"Please upload kaggle.json file\")\n",
        "# !mkdir ~/.kaggle\n",
        "# !cp kaggle.json ~/.kaggle/\n",
        "# !chmod 600"
      ],
      "metadata": {
        "id": "dHUmoOu9kssu"
      },
      "execution_count": 3,
      "outputs": []
    },
    {
      "cell_type": "markdown",
      "source": [
        "# Download dataset"
      ],
      "metadata": {
        "id": "WEyHl8fjnpnH"
      }
    },
    {
      "cell_type": "code",
      "source": [
        "zip_paths = ['LogoDet-64.zip', 'Brand_data.zip', 'Brand_Data2.zip']\n",
        "\n",
        "for zip_path in zip_paths:\n",
        "  print(\"Unzipping the dataset...\")\n",
        "  with zipfile.ZipFile(zip_path, 'r') as zip_ref:\n",
        "      zip_ref.extractall()\n",
        "  print(\"Unzipped the dataset successfully.\")"
      ],
      "metadata": {
        "id": "XoLhcSI5kOOE",
        "colab": {
          "base_uri": "https://localhost:8080/"
        },
        "outputId": "2330b4c6-ae0f-4693-cec8-521ae15b3580"
      },
      "execution_count": 4,
      "outputs": [
        {
          "output_type": "stream",
          "name": "stdout",
          "text": [
            "Unzipping the dataset...\n",
            "Unzipped the dataset successfully.\n",
            "Unzipping the dataset...\n",
            "Unzipped the dataset successfully.\n",
            "Unzipping the dataset...\n",
            "Unzipped the dataset successfully.\n"
          ]
        }
      ]
    },
    {
      "cell_type": "markdown",
      "source": [
        "# Prepare data"
      ],
      "metadata": {
        "id": "v4gvymS6oLVE"
      }
    },
    {
      "cell_type": "markdown",
      "source": [
        "### Select the brands for training"
      ],
      "metadata": {
        "id": "blkTdR4rOm8z"
      }
    },
    {
      "cell_type": "code",
      "source": [
        "Transportations = ['BMW', 'BUGATTI', 'mclaren', 'Maserati', 'Hyundai-1', 'Lamborghini', 'Bentley', 'Chevrolet', 'Isuzu-1', 'land rover', 'lexus-1', 'Mazda', 'saab', 'toyota', 'vw']\n",
        "Electronics = ['AKG', 'ASUS', 'Apple', 'BlackBerry', 'BenQ', 'BELKIN-1', 'Canon', 'EPSON', 'Ericsson', 'game boy', 'haier', 'HARMAN KARDON', 'Hisense', 'HTC', 'IBM', 'Logitech',\n",
        "               'MediaTek', 'meizu', 'roland', 'skyworth', 'viewsonic', 'xiaomi']\n",
        "Clothes = ['Balenciaga', 'Armani', 'Birkenstock', 'Bottega Veneta', 'Bulgari', 'Calvin Klein', 'chanel', 'Celine', 'Champion', 'Chloe', 'Columbia', 'Converse', 'Guess', 'Guy Laroche',\n",
        "           'Hugo Boss', 'Kenzo', 'levis', 'miu miu', 'new balance-1', 'patek philippe', 'playboy', 'prada', 'tom ford', 'tommy hilfiger', 'uniqlo', 'valentino\\'s', 'versace']\n",
        "\n",
        "selected_brands = Transportations + Electronics + Clothes\n",
        "\n",
        "selected_brand_path = [os.path.join('/content/LogoDet-64', x) for x in selected_brands]\n",
        "\n",
        "min_brand_image = 1e9\n",
        "for brand_path in selected_brand_path:\n",
        "  num_of_img = len(os.listdir(brand_path))\n",
        "\n",
        "  if(num_of_img < min_brand_image):\n",
        "    min_brand_image = num_of_img\n",
        "\n",
        "print(min_brand_image//2)"
      ],
      "metadata": {
        "id": "nEV1gyh7OmlZ",
        "colab": {
          "base_uri": "https://localhost:8080/"
        },
        "outputId": "b044bf1c-62f1-4fcf-be8e-866b83d69a3c"
      },
      "execution_count": 5,
      "outputs": [
        {
          "output_type": "stream",
          "name": "stdout",
          "text": [
            "10\n"
          ]
        }
      ]
    },
    {
      "cell_type": "markdown",
      "source": [
        "### Prepare .ymal file"
      ],
      "metadata": {
        "id": "swaR1Wqc4B6c"
      }
    },
    {
      "cell_type": "code",
      "source": [
        "data = {\n",
        "  'path': '/content/LogoDet_prep',  # dataset root dir\n",
        "  'train': 'images/train',  # train images (relative to 'path') 128 images\n",
        "  'val': 'images/val',  # val images (relative to 'path') 128 images\n",
        "  'test': 'images/test',  # test images (optional)\n",
        "\n",
        "  # Classes\n",
        "  'names': {}\n",
        "}\n",
        "\n",
        "for i in range(len(selected_brands)):\n",
        "  data['names'].update({i:selected_brands[i].replace('-1', '')})\n",
        "\n",
        "yaml_output = yaml.dump(data, sort_keys=False)\n",
        "\n",
        "def write_yaml_to_file(py_obj,filename):\n",
        "    with open(f'{filename}.yaml', 'w',) as f :\n",
        "        yaml.dump(py_obj,f,sort_keys=False)\n",
        "    print('Written to file successfully')\n",
        "\n",
        "print(yaml_output)\n",
        "write_yaml_to_file(data, 'LogoDept_prep')"
      ],
      "metadata": {
        "id": "7G5Z9CCLwZgF",
        "colab": {
          "base_uri": "https://localhost:8080/"
        },
        "outputId": "2541500d-f398-461f-e07e-25b9b86f1de0"
      },
      "execution_count": 6,
      "outputs": [
        {
          "output_type": "stream",
          "name": "stdout",
          "text": [
            "path: /content/LogoDet_prep\n",
            "train: images/train\n",
            "val: images/val\n",
            "test: images/test\n",
            "names:\n",
            "  0: BMW\n",
            "  1: BUGATTI\n",
            "  2: mclaren\n",
            "  3: Maserati\n",
            "  4: Hyundai\n",
            "  5: Lamborghini\n",
            "  6: Bentley\n",
            "  7: Chevrolet\n",
            "  8: Isuzu\n",
            "  9: land rover\n",
            "  10: lexus\n",
            "  11: Mazda\n",
            "  12: saab\n",
            "  13: toyota\n",
            "  14: vw\n",
            "  15: AKG\n",
            "  16: ASUS\n",
            "  17: Apple\n",
            "  18: BlackBerry\n",
            "  19: BenQ\n",
            "  20: BELKIN\n",
            "  21: Canon\n",
            "  22: EPSON\n",
            "  23: Ericsson\n",
            "  24: game boy\n",
            "  25: haier\n",
            "  26: HARMAN KARDON\n",
            "  27: Hisense\n",
            "  28: HTC\n",
            "  29: IBM\n",
            "  30: Logitech\n",
            "  31: MediaTek\n",
            "  32: meizu\n",
            "  33: roland\n",
            "  34: skyworth\n",
            "  35: viewsonic\n",
            "  36: xiaomi\n",
            "  37: Balenciaga\n",
            "  38: Armani\n",
            "  39: Birkenstock\n",
            "  40: Bottega Veneta\n",
            "  41: Bulgari\n",
            "  42: Calvin Klein\n",
            "  43: chanel\n",
            "  44: Celine\n",
            "  45: Champion\n",
            "  46: Chloe\n",
            "  47: Columbia\n",
            "  48: Converse\n",
            "  49: Guess\n",
            "  50: Guy Laroche\n",
            "  51: Hugo Boss\n",
            "  52: Kenzo\n",
            "  53: levis\n",
            "  54: miu miu\n",
            "  55: new balance\n",
            "  56: patek philippe\n",
            "  57: playboy\n",
            "  58: prada\n",
            "  59: tom ford\n",
            "  60: tommy hilfiger\n",
            "  61: uniqlo\n",
            "  62: valentino's\n",
            "  63: versace\n",
            "\n",
            "Written to file successfully\n"
          ]
        }
      ]
    },
    {
      "cell_type": "markdown",
      "source": [
        "### Delete \"LogoDept_prep\" and \"runs\" folder"
      ],
      "metadata": {
        "id": "OYSOQdcqbnSs"
      }
    },
    {
      "cell_type": "code",
      "source": [
        "# # Replace '/path/to/your/folder' with the path to the folder you want to delete\n",
        "# folder_to_delete1 = '/content/LogoDet_prep'\n",
        "# folder_to_delete2 = '/content/runs'\n",
        "\n",
        "# shutil.rmtree(folder_to_delete1)\n",
        "# shutil.rmtree(folder_to_delete2)"
      ],
      "metadata": {
        "id": "1bHbWhB3sEjX"
      },
      "execution_count": null,
      "outputs": []
    },
    {
      "cell_type": "markdown",
      "source": [
        "### Create directory for dataset"
      ],
      "metadata": {
        "id": "nt-JFUE2butM"
      }
    },
    {
      "cell_type": "code",
      "source": [
        "# Specify the path of the new folder\n",
        "data_prep = \"/content/LogoDet_prep\"\n",
        "images_folder = \"/content/LogoDet_prep/images\"\n",
        "labels_folder = \"/content/LogoDet_prep/labels\"\n",
        "\n",
        "images_train_folder = \"/content/LogoDet_prep/images/train\"\n",
        "images_val_folder = \"/content/LogoDet_prep/images/val\"\n",
        "images_test_folder = \"/content/LogoDet_prep/images/test\"\n",
        "\n",
        "labels_train_folder = \"/content/LogoDet_prep/labels/train\"\n",
        "labels_val_folder = \"/content/LogoDet_prep/labels/val\"\n",
        "labels_test_folder = \"/content/LogoDet_prep/labels/test\"\n",
        "\n",
        "# Create the new folder\n",
        "os.makedirs(data_prep, exist_ok=True)\n",
        "os.makedirs(images_folder, exist_ok=True)\n",
        "os.makedirs(labels_folder, exist_ok=True)\n",
        "\n",
        "os.makedirs(images_train_folder, exist_ok=True)\n",
        "os.makedirs(images_val_folder, exist_ok=True)\n",
        "os.makedirs(images_test_folder, exist_ok=True)\n",
        "\n",
        "os.makedirs(labels_train_folder, exist_ok=True)\n",
        "os.makedirs(labels_val_folder, exist_ok=True)\n",
        "os.makedirs(labels_test_folder, exist_ok=True)"
      ],
      "metadata": {
        "id": "vi8Mx0sTvytY"
      },
      "execution_count": 7,
      "outputs": []
    },
    {
      "cell_type": "markdown",
      "source": [
        "### Format the data to the dataset folder for YOLOv8 training"
      ],
      "metadata": {
        "id": "96iu2jd5b4eV"
      }
    },
    {
      "cell_type": "code",
      "source": [
        "def xml2txt(class_no, xml_path, lables_folder_path):\n",
        "  with open(xml_path, 'r') as f:\n",
        "      data = f.read()\n",
        "\n",
        "  Bs_data = BeautifulSoup(data, \"xml\")\n",
        "  width = int(Bs_data.find('size').find('width').text)\n",
        "  height = int(Bs_data.find('size').find('height').text)\n",
        "\n",
        "  obj_tag_list = Bs_data.find_all('object')\n",
        "\n",
        "  for obj_tag in obj_tag_list:\n",
        "    bnd_tag = obj_tag.find('bndbox')\n",
        "    xmin = int(bnd_tag.find('xmin').text)\n",
        "    ymin = int(bnd_tag.find('ymin').text)\n",
        "    xmax = int(bnd_tag.find('xmax').text)\n",
        "    ymax = int(bnd_tag.find('ymax').text)\n",
        "\n",
        "    xcenter_ratio = round(((xmin+xmax)/2)/width, 6)\n",
        "    ycenter_ratio = round(((ymin+ymax)/2)/height, 6)\n",
        "    width_ratio = round((xmax-xmin)/width, 6)\n",
        "    height_ratio = round((ymax-ymin)/height, 6)\n",
        "    extract_data = str(class_no) + ' ' + str(xcenter_ratio) + ' ' + str(ycenter_ratio) + ' ' + str(width_ratio) + ' ' + str(height_ratio) + '\\n'\n",
        "\n",
        "    text_file = open(lables_folder_path, \"a\")\n",
        "    text_file.write(extract_data)\n",
        "    text_file.close()\n",
        "\n",
        "# class_no = 999\n",
        "# xml_path = '/content/LogoDet-3K/Clothes/new balance-1/142.xml'\n",
        "# lables_folder_path = '/content/new balance-1-142.txt'\n",
        "# xml2txt(class_no, xml_path, lables_folder_path)"
      ],
      "metadata": {
        "id": "Yb-zRNNRArhh"
      },
      "execution_count": 8,
      "outputs": []
    },
    {
      "cell_type": "code",
      "source": [
        "from sklearn.model_selection import train_test_split\n",
        "\n",
        "# Detemine ratio of train, val, test\n",
        "train_ratio = 1\n",
        "val_ratio = 0\n",
        "\n",
        "# Iterate through the input folder\n",
        "for class_no in range(len(selected_brand_path)):\n",
        "    brand_name_path = selected_brand_path[class_no]\n",
        "\n",
        "    # Iterate through images and corresponding XML files\n",
        "    image_dir_list = [x for x in os.listdir(brand_name_path) if x.endswith('.jpg')]\n",
        "\n",
        "    # file_count = len(image_dir_list)\n",
        "    # num_train = round(file_count*train_ratio)\n",
        "    # num_val = round(file_count*val_ratio)\n",
        "\n",
        "    # image_dir_train, image_dir_val = train_test_split(image_dir_list, test_size=(val_ratio))\n",
        "\n",
        "    for image_file in image_dir_list:\n",
        "        image_path = os.path.join(brand_name_path, image_file)\n",
        "        xml_file = image_file.replace('.jpg', '.xml')\n",
        "        text_file = xml_file.replace('.xml', '.txt')\n",
        "        xml_path = os.path.join(brand_name_path, xml_file)\n",
        "\n",
        "        images_folder_path = os.path.join(\"/content/LogoDet_prep/images/train\", selected_brands[class_no] + '-' + image_file)\n",
        "        lables_folder_path = os.path.join(\"/content/LogoDet_prep/labels/train\", selected_brands[class_no] + '-' + text_file)\n",
        "\n",
        "        xml2txt(class_no, xml_path, lables_folder_path)\n",
        "\n",
        "        # Copy the image and XML file to the new folder\n",
        "        shutil.copy(image_path, images_folder_path)\n",
        "\n",
        "    # for image_file in image_dir_val:\n",
        "    #     image_path = os.path.join(brand_name_path, image_file)\n",
        "    #     xml_file = image_file.replace('.jpg', '.xml')\n",
        "    #     text_file = xml_file.replace('.xml', '.txt')\n",
        "    #     xml_path = os.path.join(brand_name_path, xml_file)\n",
        "\n",
        "    #     images_folder_path = os.path.join(\"/content/LogoDet_prep/images/val\", selected_brands[class_no] + '-' + image_file)\n",
        "    #     lables_folder_path = os.path.join(\"/content/LogoDet_prep/labels/val\", selected_brands[class_no] + '-' + text_file)\n",
        "\n",
        "    #     xml2txt(class_no, xml_path, lables_folder_path)\n",
        "\n",
        "    #     # Copy the image and XML file to the new folder\n",
        "    #     shutil.copy(image_path, images_folder_path)\n",
        "\n",
        "    # for image_file in image_dir_test:\n",
        "    #     image_path = os.path.join(brand_name_path, image_file)\n",
        "    #     xml_file = image_file.replace('.jpg', '.xml')\n",
        "    #     text_file = xml_file.replace('.xml', '.txt')\n",
        "    #     xml_path = os.path.join(brand_name_path, xml_file)\n",
        "\n",
        "    #     images_folder_path = os.path.join(\"/content/LogoDet_prep/images/test\", brand_name + '-' + image_file)\n",
        "    #     lables_folder_path = os.path.join(\"/content/LogoDet_prep/labels/test\", brand_name + '-' + text_file)\n",
        "\n",
        "    #     xml2txt(class_no, xml_path, lables_folder_path)\n",
        "\n",
        "    #     # Copy the image and XML file to the new folder\n",
        "    #     shutil.copy(image_path, images_folder_path)\n",
        "\n",
        "print(class_no)"
      ],
      "metadata": {
        "id": "YK1zG4nJqHjz",
        "colab": {
          "base_uri": "https://localhost:8080/"
        },
        "outputId": "45b4ee77-e4eb-4938-c102-1a277ab06fd5"
      },
      "execution_count": 9,
      "outputs": [
        {
          "output_type": "stream",
          "name": "stdout",
          "text": [
            "63\n"
          ]
        }
      ]
    },
    {
      "cell_type": "code",
      "source": [
        "def checkIfImage(image):\n",
        "  return image.endswith('.jpg') or image.endswith('.png') or image.endswith('.jpeg') or image.endswith('.webp')\n",
        "\n",
        "def checkIfLabel(label):\n",
        "  return label.endswith('.txt')\n",
        "\n",
        "for TestData_folder in ['/content/Brand_data/Brand_data', '/content/Brand_Data2']:\n",
        "  images_folder = os.path.join(TestData_folder, 'images')\n",
        "  labels_folder = os.path.join(TestData_folder, 'labels')\n",
        "\n",
        "  for image in os.listdir(images_folder):\n",
        "    if(checkIfImage(image)):\n",
        "      image_path = os.path.join(images_folder, image)\n",
        "      shutil.copy(image_path, '/content/LogoDet_prep/images/val')\n",
        "\n",
        "  for label in os.listdir(labels_folder):\n",
        "    if(checkIfLabel(label)):\n",
        "      label_path = os.path.join(labels_folder, label)\n",
        "      shutil.copy(label_path, '/content/LogoDet_prep/labels/val')\n",
        "\n",
        "print(len(os.listdir('/content/LogoDet_prep/images/val')))\n",
        "print(len(os.listdir('/content/LogoDet_prep/labels/val')))"
      ],
      "metadata": {
        "id": "5ANLFTU88AuV",
        "colab": {
          "base_uri": "https://localhost:8080/"
        },
        "outputId": "db04e7b5-7c43-43b0-b0f3-30286660a63b"
      },
      "execution_count": 10,
      "outputs": [
        {
          "output_type": "stream",
          "name": "stdout",
          "text": [
            "192\n",
            "192\n"
          ]
        }
      ]
    },
    {
      "cell_type": "code",
      "source": [
        "# Specify the path of the folder you want to zip\n",
        "folder_path = '/content/LogoDet_prep'\n",
        "\n",
        "# Specify the path and name of the zip file you want to create\n",
        "zip_file_path = '/content/LogoDet_prep.zip'\n",
        "\n",
        "# Create a zip file\n",
        "shutil.make_archive(zip_file_path, 'zip', folder_path)\n",
        "\n",
        "# Move the zip file to the desired location (optional)\n",
        "shutil.move(zip_file_path + '.zip', zip_file_path)"
      ],
      "metadata": {
        "colab": {
          "base_uri": "https://localhost:8080/",
          "height": 35
        },
        "id": "FBFd_u6_lrlA",
        "outputId": "0351687d-af8e-4183-8871-580be4177719"
      },
      "execution_count": 11,
      "outputs": [
        {
          "output_type": "execute_result",
          "data": {
            "text/plain": [
              "'/content/LogoDet_prep.zip'"
            ],
            "application/vnd.google.colaboratory.intrinsic+json": {
              "type": "string"
            }
          },
          "metadata": {},
          "execution_count": 11
        }
      ]
    },
    {
      "cell_type": "code",
      "source": [
        "from google.colab import drive\n",
        "drive.mount('/content/gdrive')\n",
        "\n",
        "zip_file_path = '/content/LogoDet_prep.zip'\n",
        "save_path = F\"/content/gdrive/My Drive/LogoDet_prep.zip\"\n",
        "shutil.move(zip_file_path, save_path)"
      ],
      "metadata": {
        "colab": {
          "base_uri": "https://localhost:8080/",
          "height": 53
        },
        "id": "WrBRhhFmmAt2",
        "outputId": "04309d33-9793-4918-f4aa-c20427cdb00b"
      },
      "execution_count": 12,
      "outputs": [
        {
          "output_type": "stream",
          "name": "stdout",
          "text": [
            "Mounted at /content/gdrive\n"
          ]
        },
        {
          "output_type": "execute_result",
          "data": {
            "text/plain": [
              "'/content/gdrive/My Drive/LogoDet_prep.zip'"
            ],
            "application/vnd.google.colaboratory.intrinsic+json": {
              "type": "string"
            }
          },
          "metadata": {},
          "execution_count": 12
        }
      ]
    },
    {
      "cell_type": "code",
      "source": [
        "print('training images =',len(os.listdir('/content/LogoDet_prep/images/train')))\n",
        "print('validating images =',len(os.listdir('/content/LogoDet_prep/images/val')))"
      ],
      "metadata": {
        "id": "ikzNE9ZwN420",
        "colab": {
          "base_uri": "https://localhost:8080/"
        },
        "outputId": "c6a92df5-a011-4d25-b647-9a39d3e2311f"
      },
      "execution_count": null,
      "outputs": [
        {
          "output_type": "stream",
          "name": "stdout",
          "text": [
            "training images = 2986\n",
            "validating images = 192\n"
          ]
        }
      ]
    },
    {
      "cell_type": "markdown",
      "source": [
        "# Train the model"
      ],
      "metadata": {
        "id": "BRTL8x3GOZQI"
      }
    },
    {
      "cell_type": "code",
      "source": [
        "!gdown 1-BscyjKMVbBUPDtxzLBBUH0iLqd7wlwk"
      ],
      "metadata": {
        "colab": {
          "base_uri": "https://localhost:8080/"
        },
        "id": "XiGi4JGaOfXv",
        "outputId": "3d2f051a-afed-4fc9-f094-c1d21dbadb56"
      },
      "execution_count": null,
      "outputs": [
        {
          "output_type": "stream",
          "name": "stdout",
          "text": [
            "Downloading...\n",
            "From: https://drive.google.com/uc?id=1-BscyjKMVbBUPDtxzLBBUH0iLqd7wlwk\n",
            "To: /content/train5_11-12-2023.zip\n",
            "100% 87.0M/87.0M [00:01<00:00, 76.6MB/s]\n"
          ]
        }
      ]
    },
    {
      "cell_type": "code",
      "source": [
        "zip_path = 'train5_11-12-2023.zip'\n",
        "os.makedirs('/content/runs/detect/train5')\n",
        "with zipfile.ZipFile(zip_path, 'r') as zip_ref:\n",
        "    zip_ref.extractall('/content/runs/detect/train5')"
      ],
      "metadata": {
        "id": "Y2_HHoxnOkEW"
      },
      "execution_count": null,
      "outputs": []
    },
    {
      "cell_type": "code",
      "source": [
        "from ultralytics import YOLO\n",
        "\n",
        "# Adjust the parameters\n",
        "epochs = 20\n",
        "imgsz = 960\n",
        "lr0 = 0.000002\n",
        "lrf = 0.0001\n",
        "optimizer = 'Adam'"
      ],
      "metadata": {
        "id": "IKM_T3UsiwvR"
      },
      "execution_count": null,
      "outputs": []
    },
    {
      "cell_type": "code",
      "source": [
        "# Load a model\n",
        "# model = YOLO(\"yolov8n.yaml\")  # build a new model from scratch\n",
        "# model = YOLO(\"yolov8n.pt\")  # load a pretrained model (recommended for training)\n",
        "# model = YOLO(\"yolov8s.pt\")\n",
        "model = YOLO(\"/content/runs/detect/train/weights/best.pt\")\n",
        "\n",
        "# Use the model\n",
        "model.train(data=\"LogoDept_prep.yaml\", epochs=epochs, imgsz=imgsz, lr0=lr0, lrf=lrf, optimizer=optimizer)  # train the model\n",
        "path = model.export(format=\"onnx\")  # export the model to ONNX format"
      ],
      "metadata": {
        "id": "4qdT9CVINuez",
        "colab": {
          "base_uri": "https://localhost:8080/"
        },
        "outputId": "be84e7ef-3f6c-42eb-d932-93de8a2d33a8"
      },
      "execution_count": null,
      "outputs": [
        {
          "output_type": "stream",
          "name": "stdout",
          "text": [
            "Ultralytics YOLOv8.0.226 🚀 Python-3.10.12 torch-2.1.0+cu118 CUDA:0 (Tesla T4, 15102MiB)\n",
            "\u001b[34m\u001b[1mengine/trainer: \u001b[0mtask=detect, mode=train, model=/content/runs/detect/train/weights/best.pt, data=LogoDept_prep.yaml, epochs=20, patience=50, batch=16, imgsz=960, save=True, save_period=-1, cache=False, device=None, workers=8, project=None, name=train2, exist_ok=False, pretrained=True, optimizer=Adam, verbose=True, seed=0, deterministic=True, single_cls=False, rect=False, cos_lr=False, close_mosaic=10, resume=False, amp=True, fraction=1.0, profile=False, freeze=None, overlap_mask=True, mask_ratio=4, dropout=0.0, val=True, split=val, save_json=False, save_hybrid=False, conf=None, iou=0.7, max_det=300, half=False, dnn=False, plots=True, source=None, vid_stride=1, stream_buffer=False, visualize=False, augment=False, agnostic_nms=False, classes=None, retina_masks=False, show=False, save_frames=False, save_txt=False, save_conf=False, save_crop=False, show_labels=True, show_conf=True, show_boxes=True, line_width=None, format=torchscript, keras=False, optimize=False, int8=False, dynamic=False, simplify=False, opset=None, workspace=4, nms=False, lr0=2e-06, lrf=0.0001, momentum=0.937, weight_decay=0.0005, warmup_epochs=3.0, warmup_momentum=0.8, warmup_bias_lr=0.1, box=7.5, cls=0.5, dfl=1.5, pose=12.0, kobj=1.0, label_smoothing=0.0, nbs=64, hsv_h=0.015, hsv_s=0.7, hsv_v=0.4, degrees=0.0, translate=0.1, scale=0.5, shear=0.0, perspective=0.0, flipud=0.0, fliplr=0.5, mosaic=1.0, mixup=0.0, copy_paste=0.0, cfg=None, tracker=botsort.yaml, save_dir=runs/detect/train2\n",
            "\n",
            "                   from  n    params  module                                       arguments                     \n",
            "  0                  -1  1      1856  ultralytics.nn.modules.conv.Conv             [3, 64, 3, 2]                 \n",
            "  1                  -1  1     36992  ultralytics.nn.modules.conv.Conv             [64, 64, 3, 2]                \n",
            "  2                  -1  1     29056  ultralytics.nn.modules.block.C2f             [64, 64, 1, True]             \n",
            "  3                  -1  1     73984  ultralytics.nn.modules.conv.Conv             [64, 128, 3, 2]               \n",
            "  4                  -1  2    197632  ultralytics.nn.modules.block.C2f             [128, 128, 2, True]           \n",
            "  5                  -1  1    295424  ultralytics.nn.modules.conv.Conv             [128, 256, 3, 2]              \n",
            "  6                  -1  2    788480  ultralytics.nn.modules.block.C2f             [256, 256, 2, True]           \n",
            "  7                  -1  1   1180672  ultralytics.nn.modules.conv.Conv             [256, 512, 3, 2]              \n",
            "  8                  -1  1   1838080  ultralytics.nn.modules.block.C2f             [512, 512, 1, True]           \n",
            "  9                  -1  1    656896  ultralytics.nn.modules.block.SPPF            [512, 512, 5]                 \n",
            " 10                  -1  1         0  torch.nn.modules.upsampling.Upsample         [None, 2, 'nearest']          \n",
            " 11             [-1, 6]  1         0  ultralytics.nn.modules.conv.Concat           [1]                           \n",
            " 12                  -1  1    591360  ultralytics.nn.modules.block.C2f             [768, 256, 1]                 \n",
            " 13                  -1  1         0  torch.nn.modules.upsampling.Upsample         [None, 2, 'nearest']          \n",
            " 14             [-1, 4]  1         0  ultralytics.nn.modules.conv.Concat           [1]                           \n",
            " 15                  -1  1    148224  ultralytics.nn.modules.block.C2f             [384, 128, 1]                 \n",
            " 16                  -1  1    147712  ultralytics.nn.modules.conv.Conv             [128, 128, 3, 2]              \n",
            " 17            [-1, 12]  1         0  ultralytics.nn.modules.conv.Concat           [1]                           \n",
            " 18                  -1  1    493056  ultralytics.nn.modules.block.C2f             [384, 256, 1]                 \n",
            " 19                  -1  1    590336  ultralytics.nn.modules.conv.Conv             [256, 256, 3, 2]              \n",
            " 20             [-1, 9]  1         0  ultralytics.nn.modules.conv.Concat           [1]                           \n",
            " 21                  -1  1   1969152  ultralytics.nn.modules.block.C2f             [768, 512, 1]                 \n",
            " 22        [15, 18, 21]  1   2140816  ultralytics.nn.modules.head.Detect           [64, [128, 256, 512]]         \n",
            "Model summary: 225 layers, 11179728 parameters, 11179712 gradients, 29.9 GFLOPs\n",
            "\n",
            "Transferred 355/355 items from pretrained weights\n",
            "\u001b[34m\u001b[1mTensorBoard: \u001b[0mStart with 'tensorboard --logdir runs/detect/train2', view at http://localhost:6006/\n",
            "Freezing layer 'model.22.dfl.conv.weight'\n",
            "\u001b[34m\u001b[1mAMP: \u001b[0mrunning Automatic Mixed Precision (AMP) checks with YOLOv8n...\n",
            "\u001b[34m\u001b[1mAMP: \u001b[0mchecks passed ✅\n"
          ]
        },
        {
          "output_type": "stream",
          "name": "stderr",
          "text": [
            "\u001b[34m\u001b[1mtrain: \u001b[0mScanning /content/LogoDet_prep/labels/train.cache... 2986 images, 0 backgrounds, 0 corrupt: 100%|██████████| 2986/2986 [00:00<?, ?it/s]"
          ]
        },
        {
          "output_type": "stream",
          "name": "stdout",
          "text": [
            "\u001b[34m\u001b[1malbumentations: \u001b[0mBlur(p=0.01, blur_limit=(3, 7)), MedianBlur(p=0.01, blur_limit=(3, 7)), ToGray(p=0.01), CLAHE(p=0.01, clip_limit=(1, 4.0), tile_grid_size=(8, 8))\n"
          ]
        },
        {
          "output_type": "stream",
          "name": "stderr",
          "text": [
            "\n",
            "\u001b[34m\u001b[1mval: \u001b[0mScanning /content/LogoDet_prep/labels/val.cache... 192 images, 0 backgrounds, 0 corrupt: 100%|██████████| 192/192 [00:00<?, ?it/s]\n"
          ]
        },
        {
          "output_type": "stream",
          "name": "stdout",
          "text": [
            "Plotting labels to runs/detect/train2/labels.jpg... \n",
            "\u001b[34m\u001b[1moptimizer:\u001b[0m Adam(lr=2e-06, momentum=0.937) with parameter groups 57 weight(decay=0.0), 64 weight(decay=0.0005), 63 bias(decay=0.0)\n",
            "Image sizes 960 train, 960 val\n",
            "Using 2 dataloader workers\n",
            "Logging results to \u001b[1mruns/detect/train2\u001b[0m\n",
            "Starting training for 20 epochs...\n",
            "\n",
            "      Epoch    GPU_mem   box_loss   cls_loss   dfl_loss  Instances       Size\n"
          ]
        },
        {
          "output_type": "stream",
          "name": "stderr",
          "text": [
            "       1/20      9.86G     0.7598     0.6238      1.155         28        960: 100%|██████████| 187/187 [02:20<00:00,  1.33it/s]\n",
            "                 Class     Images  Instances      Box(P          R      mAP50  mAP50-95): 100%|██████████| 6/6 [00:05<00:00,  1.19it/s]"
          ]
        },
        {
          "output_type": "stream",
          "name": "stdout",
          "text": [
            "                   all        192        192      0.557      0.429      0.459      0.227\n"
          ]
        },
        {
          "output_type": "stream",
          "name": "stderr",
          "text": [
            "\n"
          ]
        },
        {
          "output_type": "stream",
          "name": "stdout",
          "text": [
            "\n",
            "      Epoch    GPU_mem   box_loss   cls_loss   dfl_loss  Instances       Size\n"
          ]
        },
        {
          "output_type": "stream",
          "name": "stderr",
          "text": [
            "       2/20      9.92G     0.6495     0.4788       1.08         34        960: 100%|██████████| 187/187 [02:11<00:00,  1.42it/s]\n",
            "                 Class     Images  Instances      Box(P          R      mAP50  mAP50-95): 100%|██████████| 6/6 [00:05<00:00,  1.10it/s]\n"
          ]
        },
        {
          "output_type": "stream",
          "name": "stdout",
          "text": [
            "                   all        192        192      0.543      0.501      0.517      0.261\n",
            "\n",
            "      Epoch    GPU_mem   box_loss   cls_loss   dfl_loss  Instances       Size\n"
          ]
        },
        {
          "output_type": "stream",
          "name": "stderr",
          "text": [
            "       3/20       9.9G     0.5976     0.4264      1.061         23        960: 100%|██████████| 187/187 [02:12<00:00,  1.42it/s]\n",
            "                 Class     Images  Instances      Box(P          R      mAP50  mAP50-95): 100%|██████████| 6/6 [00:04<00:00,  1.38it/s]"
          ]
        },
        {
          "output_type": "stream",
          "name": "stdout",
          "text": [
            "                   all        192        192      0.618      0.517      0.521      0.261\n"
          ]
        },
        {
          "output_type": "stream",
          "name": "stderr",
          "text": [
            "\n"
          ]
        },
        {
          "output_type": "stream",
          "name": "stdout",
          "text": [
            "\n",
            "      Epoch    GPU_mem   box_loss   cls_loss   dfl_loss  Instances       Size\n"
          ]
        },
        {
          "output_type": "stream",
          "name": "stderr",
          "text": [
            "       4/20      9.89G     0.5769     0.4045      1.045         29        960: 100%|██████████| 187/187 [02:11<00:00,  1.42it/s]\n",
            "                 Class     Images  Instances      Box(P          R      mAP50  mAP50-95): 100%|██████████| 6/6 [00:04<00:00,  1.25it/s]\n"
          ]
        },
        {
          "output_type": "stream",
          "name": "stdout",
          "text": [
            "                   all        192        192      0.638      0.505      0.537      0.268\n",
            "\n",
            "      Epoch    GPU_mem   box_loss   cls_loss   dfl_loss  Instances       Size\n"
          ]
        },
        {
          "output_type": "stream",
          "name": "stderr",
          "text": [
            "       5/20      9.93G     0.5817      0.409      1.049         28        960: 100%|██████████| 187/187 [02:16<00:00,  1.37it/s]\n",
            "                 Class     Images  Instances      Box(P          R      mAP50  mAP50-95): 100%|██████████| 6/6 [00:05<00:00,  1.11it/s]\n"
          ]
        },
        {
          "output_type": "stream",
          "name": "stdout",
          "text": [
            "                   all        192        192       0.63      0.515      0.534      0.265\n",
            "\n",
            "      Epoch    GPU_mem   box_loss   cls_loss   dfl_loss  Instances       Size\n"
          ]
        },
        {
          "output_type": "stream",
          "name": "stderr",
          "text": [
            "       6/20       9.9G     0.5836     0.4039      1.053         35        960: 100%|██████████| 187/187 [02:12<00:00,  1.41it/s]\n",
            "                 Class     Images  Instances      Box(P          R      mAP50  mAP50-95): 100%|██████████| 6/6 [00:04<00:00,  1.32it/s]"
          ]
        },
        {
          "output_type": "stream",
          "name": "stdout",
          "text": [
            "                   all        192        192      0.619      0.517      0.533      0.265\n"
          ]
        },
        {
          "output_type": "stream",
          "name": "stderr",
          "text": [
            "\n"
          ]
        },
        {
          "output_type": "stream",
          "name": "stdout",
          "text": [
            "\n",
            "      Epoch    GPU_mem   box_loss   cls_loss   dfl_loss  Instances       Size\n"
          ]
        },
        {
          "output_type": "stream",
          "name": "stderr",
          "text": [
            "       7/20      9.92G     0.5714     0.4072      1.046         34        960: 100%|██████████| 187/187 [02:10<00:00,  1.43it/s]\n",
            "                 Class     Images  Instances      Box(P          R      mAP50  mAP50-95): 100%|██████████| 6/6 [00:05<00:00,  1.20it/s]\n"
          ]
        },
        {
          "output_type": "stream",
          "name": "stdout",
          "text": [
            "                   all        192        192      0.633      0.518      0.542      0.268\n",
            "\n",
            "      Epoch    GPU_mem   box_loss   cls_loss   dfl_loss  Instances       Size\n"
          ]
        },
        {
          "output_type": "stream",
          "name": "stderr",
          "text": [
            "       8/20      9.89G     0.5725     0.3945      1.043         29        960: 100%|██████████| 187/187 [02:11<00:00,  1.42it/s]\n",
            "                 Class     Images  Instances      Box(P          R      mAP50  mAP50-95): 100%|██████████| 6/6 [00:05<00:00,  1.05it/s]\n"
          ]
        },
        {
          "output_type": "stream",
          "name": "stdout",
          "text": [
            "                   all        192        192       0.63      0.513      0.548      0.274\n",
            "\n",
            "      Epoch    GPU_mem   box_loss   cls_loss   dfl_loss  Instances       Size\n"
          ]
        },
        {
          "output_type": "stream",
          "name": "stderr",
          "text": [
            "       9/20       9.9G     0.5692     0.3983      1.043         26        960: 100%|██████████| 187/187 [02:10<00:00,  1.43it/s]\n",
            "                 Class     Images  Instances      Box(P          R      mAP50  mAP50-95): 100%|██████████| 6/6 [00:06<00:00,  1.01s/it]"
          ]
        },
        {
          "output_type": "stream",
          "name": "stdout",
          "text": [
            "                   all        192        192       0.65      0.515      0.547      0.272\n"
          ]
        },
        {
          "output_type": "stream",
          "name": "stderr",
          "text": [
            "\n"
          ]
        },
        {
          "output_type": "stream",
          "name": "stdout",
          "text": [
            "\n",
            "      Epoch    GPU_mem   box_loss   cls_loss   dfl_loss  Instances       Size\n"
          ]
        },
        {
          "output_type": "stream",
          "name": "stderr",
          "text": [
            "      10/20       9.9G     0.5693      0.399      1.045         24        960: 100%|██████████| 187/187 [02:13<00:00,  1.40it/s]\n",
            "                 Class     Images  Instances      Box(P          R      mAP50  mAP50-95): 100%|██████████| 6/6 [00:04<00:00,  1.46it/s]"
          ]
        },
        {
          "output_type": "stream",
          "name": "stdout",
          "text": [
            "                   all        192        192      0.589      0.535      0.541      0.273\n"
          ]
        },
        {
          "output_type": "stream",
          "name": "stderr",
          "text": [
            "\n"
          ]
        },
        {
          "output_type": "stream",
          "name": "stdout",
          "text": [
            "Closing dataloader mosaic\n",
            "\u001b[34m\u001b[1malbumentations: \u001b[0mBlur(p=0.01, blur_limit=(3, 7)), MedianBlur(p=0.01, blur_limit=(3, 7)), ToGray(p=0.01), CLAHE(p=0.01, clip_limit=(1, 4.0), tile_grid_size=(8, 8))\n",
            "\n",
            "      Epoch    GPU_mem   box_loss   cls_loss   dfl_loss  Instances       Size\n"
          ]
        },
        {
          "output_type": "stream",
          "name": "stderr",
          "text": [
            "      11/20      9.88G     0.6312     0.3818      1.098         15        960: 100%|██████████| 187/187 [02:05<00:00,  1.49it/s]\n",
            "                 Class     Images  Instances      Box(P          R      mAP50  mAP50-95): 100%|██████████| 6/6 [00:04<00:00,  1.47it/s]"
          ]
        },
        {
          "output_type": "stream",
          "name": "stdout",
          "text": [
            "                   all        192        192      0.571       0.51      0.511      0.265\n"
          ]
        },
        {
          "output_type": "stream",
          "name": "stderr",
          "text": [
            "\n"
          ]
        },
        {
          "output_type": "stream",
          "name": "stdout",
          "text": [
            "\n",
            "      Epoch    GPU_mem   box_loss   cls_loss   dfl_loss  Instances       Size\n"
          ]
        },
        {
          "output_type": "stream",
          "name": "stderr",
          "text": [
            "      12/20       9.9G     0.6123     0.3678      1.087         10        960: 100%|██████████| 187/187 [02:06<00:00,  1.48it/s]\n",
            "                 Class     Images  Instances      Box(P          R      mAP50  mAP50-95): 100%|██████████| 6/6 [00:04<00:00,  1.43it/s]"
          ]
        },
        {
          "output_type": "stream",
          "name": "stdout",
          "text": [
            "                   all        192        192      0.553      0.523       0.51      0.265\n"
          ]
        },
        {
          "output_type": "stream",
          "name": "stderr",
          "text": [
            "\n"
          ]
        },
        {
          "output_type": "stream",
          "name": "stdout",
          "text": [
            "\n",
            "      Epoch    GPU_mem   box_loss   cls_loss   dfl_loss  Instances       Size\n"
          ]
        },
        {
          "output_type": "stream",
          "name": "stderr",
          "text": [
            "      13/20       9.9G     0.6079     0.3729      1.074         12        960: 100%|██████████| 187/187 [02:09<00:00,  1.44it/s]\n",
            "                 Class     Images  Instances      Box(P          R      mAP50  mAP50-95): 100%|██████████| 6/6 [00:05<00:00,  1.19it/s]\n"
          ]
        },
        {
          "output_type": "stream",
          "name": "stdout",
          "text": [
            "                   all        192        192      0.573      0.502      0.516      0.264\n",
            "\n",
            "      Epoch    GPU_mem   box_loss   cls_loss   dfl_loss  Instances       Size\n"
          ]
        },
        {
          "output_type": "stream",
          "name": "stderr",
          "text": [
            "      14/20       9.9G     0.6109     0.3673      1.082         13        960: 100%|██████████| 187/187 [02:05<00:00,  1.49it/s]\n",
            "                 Class     Images  Instances      Box(P          R      mAP50  mAP50-95): 100%|██████████| 6/6 [00:05<00:00,  1.06it/s]\n"
          ]
        },
        {
          "output_type": "stream",
          "name": "stdout",
          "text": [
            "                   all        192        192      0.557       0.53      0.526      0.264\n",
            "\n",
            "      Epoch    GPU_mem   box_loss   cls_loss   dfl_loss  Instances       Size\n"
          ]
        },
        {
          "output_type": "stream",
          "name": "stderr",
          "text": [
            "      15/20      9.89G      0.601     0.3604      1.075         16        960: 100%|██████████| 187/187 [02:02<00:00,  1.53it/s]\n",
            "                 Class     Images  Instances      Box(P          R      mAP50  mAP50-95): 100%|██████████| 6/6 [00:04<00:00,  1.47it/s]"
          ]
        },
        {
          "output_type": "stream",
          "name": "stdout",
          "text": [
            "                   all        192        192      0.585      0.514      0.528      0.264\n"
          ]
        },
        {
          "output_type": "stream",
          "name": "stderr",
          "text": [
            "\n"
          ]
        },
        {
          "output_type": "stream",
          "name": "stdout",
          "text": [
            "\n",
            "      Epoch    GPU_mem   box_loss   cls_loss   dfl_loss  Instances       Size\n"
          ]
        },
        {
          "output_type": "stream",
          "name": "stderr",
          "text": [
            "      16/20      9.91G     0.6015     0.3664      1.072         12        960: 100%|██████████| 187/187 [02:02<00:00,  1.53it/s]\n",
            "                 Class     Images  Instances      Box(P          R      mAP50  mAP50-95): 100%|██████████| 6/6 [00:04<00:00,  1.28it/s]"
          ]
        },
        {
          "output_type": "stream",
          "name": "stdout",
          "text": [
            "                   all        192        192      0.587      0.518      0.529      0.268\n"
          ]
        },
        {
          "output_type": "stream",
          "name": "stderr",
          "text": [
            "\n"
          ]
        },
        {
          "output_type": "stream",
          "name": "stdout",
          "text": [
            "\n",
            "      Epoch    GPU_mem   box_loss   cls_loss   dfl_loss  Instances       Size\n"
          ]
        },
        {
          "output_type": "stream",
          "name": "stderr",
          "text": [
            "      17/20        10G     0.5963     0.3619       1.07         11        960: 100%|██████████| 187/187 [02:09<00:00,  1.45it/s]\n",
            "                 Class     Images  Instances      Box(P          R      mAP50  mAP50-95): 100%|██████████| 6/6 [00:04<00:00,  1.31it/s]"
          ]
        },
        {
          "output_type": "stream",
          "name": "stdout",
          "text": [
            "                   all        192        192      0.582      0.505      0.517      0.267\n"
          ]
        },
        {
          "output_type": "stream",
          "name": "stderr",
          "text": [
            "\n"
          ]
        },
        {
          "output_type": "stream",
          "name": "stdout",
          "text": [
            "\n",
            "      Epoch    GPU_mem   box_loss   cls_loss   dfl_loss  Instances       Size\n"
          ]
        },
        {
          "output_type": "stream",
          "name": "stderr",
          "text": [
            "      18/20       9.9G     0.5963     0.3558      1.069         10        960: 100%|██████████| 187/187 [02:09<00:00,  1.44it/s]\n",
            "                 Class     Images  Instances      Box(P          R      mAP50  mAP50-95): 100%|██████████| 6/6 [00:04<00:00,  1.29it/s]"
          ]
        },
        {
          "output_type": "stream",
          "name": "stdout",
          "text": [
            "                   all        192        192      0.566      0.519      0.517      0.267\n"
          ]
        },
        {
          "output_type": "stream",
          "name": "stderr",
          "text": [
            "\n"
          ]
        },
        {
          "output_type": "stream",
          "name": "stdout",
          "text": [
            "\n",
            "      Epoch    GPU_mem   box_loss   cls_loss   dfl_loss  Instances       Size\n"
          ]
        },
        {
          "output_type": "stream",
          "name": "stderr",
          "text": [
            "      19/20      9.88G     0.5993     0.3599      1.074         10        960: 100%|██████████| 187/187 [02:12<00:00,  1.42it/s]\n",
            "                 Class     Images  Instances      Box(P          R      mAP50  mAP50-95): 100%|██████████| 6/6 [00:04<00:00,  1.42it/s]"
          ]
        },
        {
          "output_type": "stream",
          "name": "stdout",
          "text": [
            "                   all        192        192      0.577      0.508      0.522      0.266\n"
          ]
        },
        {
          "output_type": "stream",
          "name": "stderr",
          "text": [
            "\n"
          ]
        },
        {
          "output_type": "stream",
          "name": "stdout",
          "text": [
            "\n",
            "      Epoch    GPU_mem   box_loss   cls_loss   dfl_loss  Instances       Size\n"
          ]
        },
        {
          "output_type": "stream",
          "name": "stderr",
          "text": [
            "      20/20      9.88G     0.6004     0.3598      1.075         12        960: 100%|██████████| 187/187 [02:03<00:00,  1.51it/s]\n",
            "                 Class     Images  Instances      Box(P          R      mAP50  mAP50-95): 100%|██████████| 6/6 [00:05<00:00,  1.14it/s]"
          ]
        },
        {
          "output_type": "stream",
          "name": "stdout",
          "text": [
            "                   all        192        192      0.593        0.5      0.519      0.265\n"
          ]
        },
        {
          "output_type": "stream",
          "name": "stderr",
          "text": [
            "\n"
          ]
        },
        {
          "output_type": "stream",
          "name": "stdout",
          "text": [
            "\n",
            "20 epochs completed in 0.792 hours.\n",
            "Optimizer stripped from runs/detect/train2/weights/last.pt, 22.6MB\n",
            "Optimizer stripped from runs/detect/train2/weights/best.pt, 22.6MB\n",
            "\n",
            "Validating runs/detect/train2/weights/best.pt...\n",
            "Ultralytics YOLOv8.0.226 🚀 Python-3.10.12 torch-2.1.0+cu118 CUDA:0 (Tesla T4, 15102MiB)\n",
            "Model summary (fused): 168 layers, 11169680 parameters, 0 gradients, 29.7 GFLOPs\n"
          ]
        },
        {
          "output_type": "stream",
          "name": "stderr",
          "text": [
            "                 Class     Images  Instances      Box(P          R      mAP50  mAP50-95): 100%|██████████| 6/6 [00:10<00:00,  1.74s/it]\n"
          ]
        },
        {
          "output_type": "stream",
          "name": "stdout",
          "text": [
            "                   all        192        192       0.63      0.513      0.546      0.273\n",
            "                   BMW        192          3       0.64      0.667      0.567      0.296\n",
            "               BUGATTI        192          3      0.754      0.333      0.567      0.397\n",
            "               mclaren        192          3      0.968          1      0.995      0.308\n",
            "              Maserati        192          3      0.233      0.333       0.19       0.14\n",
            "               Hyundai        192          3          1          0          0          0\n",
            "           Lamborghini        192          3      0.888          1      0.995      0.814\n",
            "               Bentley        192          3          1       0.49      0.671      0.472\n",
            "             Chevrolet        192          3      0.576          1      0.731      0.407\n",
            "                 Isuzu        192          3          1          0       0.39     0.0781\n",
            "            land rover        192          3       0.78      0.333      0.382      0.306\n",
            "                 lexus        192          3          1      0.458      0.672      0.539\n",
            "                 Mazda        192          3      0.943      0.667      0.671      0.404\n",
            "                  saab        192          3       0.76      0.667      0.678      0.579\n",
            "                toyota        192          3      0.931      0.333      0.391       0.26\n",
            "                    vw        192          3      0.871      0.333       0.39      0.221\n",
            "                   AKG        192          3      0.292      0.195      0.355      0.188\n",
            "                  ASUS        192          3      0.877      0.667      0.741       0.36\n",
            "                 Apple        192          3          0          0     0.0604     0.0302\n",
            "            BlackBerry        192          3      0.288      0.333      0.175      0.105\n",
            "                  BenQ        192          3      0.948      0.667      0.789      0.333\n",
            "                BELKIN        192          3      0.555      0.849      0.731      0.231\n",
            "                 Canon        192          3       0.69      0.762      0.746      0.183\n",
            "                 EPSON        192          3      0.875          1      0.995      0.433\n",
            "              Ericsson        192          3          1          0          0          0\n",
            "              game boy        192          3          1      0.648      0.727      0.453\n",
            "                 haier        192          3      0.802          1      0.995      0.335\n",
            "         HARMAN KARDON        192          3      0.589      0.511      0.559      0.123\n",
            "               Hisense        192          3          1          0      0.586       0.19\n",
            "                   HTC        192          3          1          0      0.346      0.277\n",
            "                   IBM        192          3      0.947      0.667      0.679      0.306\n",
            "              Logitech        192          3      0.387          1       0.83      0.637\n",
            "              MediaTek        192          3          1          0          0          0\n",
            "                 meizu        192          3      0.847      0.667       0.83      0.223\n",
            "                roland        192          3      0.767          1      0.995      0.895\n",
            "              skyworth        192          3          0          0        0.1     0.0319\n",
            "             viewsonic        192          3      0.449      0.564      0.336      0.118\n",
            "                xiaomi        192          3      0.588      0.667      0.775      0.287\n",
            "            Balenciaga        192          3      0.619      0.667      0.666        0.1\n",
            "                Armani        192          3          0          0          0          0\n",
            "           Birkenstock        192          3      0.292      0.667      0.667      0.101\n",
            "        Bottega Veneta        192          3      0.216      0.667      0.668      0.568\n",
            "               Bulgari        192          3      0.392          1      0.608      0.178\n",
            "          Calvin Klein        192          3      0.809          1      0.995      0.586\n",
            "                chanel        192          3          1          0      0.537      0.102\n",
            "                Celine        192          3      0.573      0.667      0.687       0.31\n",
            "              Champion        192          3      0.824      0.667      0.672      0.455\n",
            "                 Chloe        192          3      0.567          1      0.913      0.285\n",
            "              Columbia        192          3          0          0     0.0441     0.0132\n",
            "              Converse        192          3          0          0          0          0\n",
            "                 Guess        192          3      0.974          1      0.995      0.452\n",
            "           Guy Laroche        192          3      0.521          1      0.995      0.565\n",
            "             Hugo Boss        192          3        0.7          1      0.995      0.404\n",
            "                 Kenzo        192          3      0.574      0.667       0.67       0.27\n",
            "                 levis        192          3      0.467      0.667       0.83      0.487\n",
            "               miu miu        192          3      0.455      0.667      0.747        0.4\n",
            "           new balance        192          3          0          0          0          0\n",
            "        patek philippe        192          3          0          0          0          0\n",
            "               playboy        192          3          0          0          0          0\n",
            "                 prada        192          3       0.76      0.667      0.672      0.102\n",
            "              tom ford        192          3          1          0    0.00924    0.00588\n",
            "        tommy hilfiger        192          3      0.374          1      0.753       0.34\n",
            "                uniqlo        192          3      0.308      0.333       0.35       0.28\n",
            "           valentino's        192          3          1          0          0          0\n",
            "               versace        192          3      0.635      0.667       0.83      0.528\n",
            "Speed: 0.7ms preprocess, 12.4ms inference, 0.0ms loss, 8.7ms postprocess per image\n",
            "Results saved to \u001b[1mruns/detect/train2\u001b[0m\n",
            "Ultralytics YOLOv8.0.226 🚀 Python-3.10.12 torch-2.1.0+cu118 CPU (Intel Xeon 2.30GHz)\n",
            "Model summary (fused): 168 layers, 11169680 parameters, 0 gradients, 29.7 GFLOPs\n",
            "\n",
            "\u001b[34m\u001b[1mPyTorch:\u001b[0m starting from 'runs/detect/train2/weights/best.pt' with input shape (1, 3, 960, 960) BCHW and output shape(s) (1, 68, 18900) (21.6 MB)\n",
            "\n",
            "\u001b[34m\u001b[1mONNX:\u001b[0m starting export with onnx 1.15.0 opset 17...\n",
            "\u001b[34m\u001b[1mONNX:\u001b[0m export success ✅ 5.4s, saved as 'runs/detect/train2/weights/best.onnx' (43.0 MB)\n",
            "\n",
            "Export complete (10.4s)\n",
            "Results saved to \u001b[1m/content/runs/detect/train2/weights\u001b[0m\n",
            "Predict:         yolo predict task=detect model=runs/detect/train2/weights/best.onnx imgsz=960  \n",
            "Validate:        yolo val task=detect model=runs/detect/train2/weights/best.onnx imgsz=960 data=LogoDept_prep.yaml  \n",
            "Visualize:       https://netron.app\n"
          ]
        }
      ]
    },
    {
      "cell_type": "markdown",
      "source": [
        "# Evaluate and Test"
      ],
      "metadata": {
        "id": "NTkBuMyApGtY"
      }
    },
    {
      "cell_type": "code",
      "source": [
        "model = YOLO('/content/runs/detect/train5/weights/best.pt')\n",
        "metrics = model.val(imgsz=960)  # no arguments needed, dataset and settings remembered\n",
        "metrics.box.map    # map50-95\n",
        "metrics.box.map50  # map50\n",
        "metrics.box.map75  # map75\n",
        "metrics.box.maps   # a list contains map50-95 of each category"
      ],
      "metadata": {
        "id": "XUMi4Io7fmTi",
        "colab": {
          "base_uri": "https://localhost:8080/"
        },
        "outputId": "ca22b9d1-b667-45fb-80c2-0f46ade6b959"
      },
      "execution_count": null,
      "outputs": [
        {
          "output_type": "stream",
          "name": "stdout",
          "text": [
            "Ultralytics YOLOv8.0.226 🚀 Python-3.10.12 torch-2.1.0+cu118 CPU (Intel Xeon 2.20GHz)\n",
            "Model summary (fused): 168 layers, 11169680 parameters, 0 gradients, 29.7 GFLOPs\n",
            "Downloading https://ultralytics.com/assets/Arial.ttf to '/root/.config/Ultralytics/Arial.ttf'...\n"
          ]
        },
        {
          "output_type": "stream",
          "name": "stderr",
          "text": [
            "100%|██████████| 755k/755k [00:00<00:00, 23.7MB/s]\n",
            "\u001b[34m\u001b[1mval: \u001b[0mScanning /content/LogoDet_prep/labels/val... 192 images, 0 backgrounds, 0 corrupt: 100%|██████████| 192/192 [00:00<00:00, 1105.64it/s]\n"
          ]
        },
        {
          "output_type": "stream",
          "name": "stdout",
          "text": [
            "\u001b[34m\u001b[1mval: \u001b[0mNew cache created: /content/LogoDet_prep/labels/val.cache\n"
          ]
        },
        {
          "output_type": "stream",
          "name": "stderr",
          "text": [
            "                 Class     Images  Instances      Box(P          R      mAP50  mAP50-95): 100%|██████████| 12/12 [05:22<00:00, 26.84s/it]\n"
          ]
        },
        {
          "output_type": "stream",
          "name": "stdout",
          "text": [
            "                   all        192        192      0.641      0.511      0.554      0.265\n",
            "                   BMW        192          3      0.789      0.333      0.564      0.295\n",
            "               BUGATTI        192          3      0.782      0.333      0.376      0.264\n",
            "               mclaren        192          3      0.963          1      0.995      0.311\n",
            "              Maserati        192          3      0.083      0.111      0.121     0.0664\n",
            "               Hyundai        192          3          1          0     0.0828    0.00828\n",
            "           Lamborghini        192          3      0.904          1      0.995      0.796\n",
            "               Bentley        192          3          1      0.627      0.671      0.439\n",
            "             Chevrolet        192          3      0.495          1      0.597      0.323\n",
            "                 Isuzu        192          3          1          0      0.348     0.0348\n",
            "            land rover        192          3          1      0.463      0.713      0.467\n",
            "                 lexus        192          3          1          0       0.37      0.226\n",
            "                 Mazda        192          3      0.907      0.667        0.7      0.461\n",
            "                  saab        192          3       0.87      0.667      0.678      0.511\n",
            "                toyota        192          3          1          0      0.414      0.305\n",
            "                    vw        192          3       0.95      0.333      0.352      0.176\n",
            "                   AKG        192          3          0          0      0.358      0.104\n",
            "                  ASUS        192          3      0.854      0.667      0.736      0.363\n",
            "                 Apple        192          3          0          0      0.113     0.0566\n",
            "            BlackBerry        192          3      0.302      0.333      0.134     0.0789\n",
            "                  BenQ        192          3          1      0.597      0.684      0.384\n",
            "                BELKIN        192          3      0.593      0.976      0.863       0.17\n",
            "                 Canon        192          3      0.739          1      0.746      0.155\n",
            "                 EPSON        192          3      0.891          1      0.995      0.481\n",
            "              Ericsson        192          3          1          0          0          0\n",
            "              game boy        192          3       0.67      0.333      0.512      0.346\n",
            "                 haier        192          3      0.856          1      0.995       0.39\n",
            "         HARMAN KARDON        192          3      0.317      0.333       0.41     0.0893\n",
            "               Hisense        192          3          1          0      0.308     0.0767\n",
            "                   HTC        192          3          1          0      0.343      0.274\n",
            "                   IBM        192          3          1      0.584       0.67      0.369\n",
            "              Logitech        192          3      0.381          1       0.83      0.698\n",
            "              MediaTek        192          3          1          0          0          0\n",
            "                 meizu        192          3          1      0.823      0.995      0.322\n",
            "                roland        192          3      0.713          1      0.995      0.865\n",
            "              skyworth        192          3          0          0     0.0637     0.0209\n",
            "             viewsonic        192          3      0.319      0.667      0.445      0.184\n",
            "                xiaomi        192          3      0.601      0.667      0.654      0.223\n",
            "            Balenciaga        192          3       0.89          1      0.995     0.0995\n",
            "                Armani        192          3          0          0          0          0\n",
            "           Birkenstock        192          3      0.267      0.667      0.667      0.101\n",
            "        Bottega Veneta        192          3       0.44          1      0.995        0.6\n",
            "               Bulgari        192          3       0.65          1      0.746      0.191\n",
            "          Calvin Klein        192          3      0.714          1      0.995      0.452\n",
            "                chanel        192          3          1          0      0.567      0.117\n",
            "                Celine        192          3       0.63      0.667      0.668      0.301\n",
            "              Champion        192          3          1       0.81      0.995      0.486\n",
            "                 Chloe        192          3      0.738          1      0.995      0.466\n",
            "              Columbia        192          3          0          0     0.0868      0.026\n",
            "              Converse        192          3          0          0          0          0\n",
            "                 Guess        192          3          1      0.908      0.995      0.423\n",
            "           Guy Laroche        192          3      0.563          1      0.995      0.598\n",
            "             Hugo Boss        192          3      0.693          1      0.995      0.438\n",
            "                 Kenzo        192          3      0.523      0.667      0.558      0.169\n",
            "                 levis        192          3      0.495          1      0.995       0.61\n",
            "               miu miu        192          3      0.493      0.667      0.775      0.412\n",
            "           new balance        192          3          0          0          0          0\n",
            "        patek philippe        192          3          0          0          0          0\n",
            "               playboy        192          3          0          0          0          0\n",
            "                 prada        192          3      0.484      0.667      0.671      0.102\n",
            "              tom ford        192          3          1          0     0.0431     0.0227\n",
            "        tommy hilfiger        192          3      0.459          1       0.83      0.292\n",
            "                uniqlo        192          3      0.303      0.333      0.177      0.141\n",
            "           valentino's        192          3          1          0          0          0\n",
            "               versace        192          3      0.698       0.79      0.913      0.604\n",
            "Speed: 12.8ms preprocess, 1621.1ms inference, 0.0ms loss, 2.5ms postprocess per image\n",
            "Results saved to \u001b[1mruns/detect/val\u001b[0m\n"
          ]
        },
        {
          "output_type": "execute_result",
          "data": {
            "text/plain": [
              "array([    0.29458,     0.26352,     0.31134,     0.06636,   0.0082793,       0.796,     0.43859,     0.32275,    0.034776,     0.46728,     0.22648,     0.46062,     0.51061,     0.30509,     0.17623,     0.10446,     0.36283,    0.056571,    0.078853,     0.38414,      0.1703,     0.15478,      0.4811,           0,\n",
              "           0.34636,     0.39005,    0.089251,    0.076727,     0.27432,     0.36901,     0.69765,           0,       0.322,     0.86474,     0.02093,     0.18416,     0.22314,      0.0995,           0,     0.10054,     0.59982,     0.19119,     0.45158,     0.11676,     0.30078,     0.48619,     0.46584,    0.026038,\n",
              "                 0,      0.4229,     0.59841,     0.43783,     0.16897,     0.61043,     0.41208,           0,           0,           0,     0.10169,    0.022702,     0.29201,     0.14137,           0,     0.60407])"
            ]
          },
          "metadata": {},
          "execution_count": 14
        }
      ]
    },
    {
      "cell_type": "code",
      "source": [
        "model = YOLO('/content/runs/detect/train/weights/best.pt')\n",
        "# model = YOLO('/content/yolov8n.pt')\n",
        "\n",
        "# Define path to the image file\n",
        "test_path = '/content/LogoDet_prep/images/val'\n",
        "file_list = os.listdir(test_path)\n",
        "source = [os.path.join(test_path, file_name) for file_name in file_list]\n",
        "\n",
        "# Run inference on the source\n",
        "results = model(source, imgsz=640, save=True)  # list of Results objects"
      ],
      "metadata": {
        "id": "qU9ckGzKR9Ra",
        "colab": {
          "base_uri": "https://localhost:8080/",
          "height": 245
        },
        "outputId": "e7f4f7a3-3c8c-4b77-dcf7-1e31b9d054b4"
      },
      "execution_count": null,
      "outputs": [
        {
          "output_type": "error",
          "ename": "NameError",
          "evalue": "ignored",
          "traceback": [
            "\u001b[0;31m---------------------------------------------------------------------------\u001b[0m",
            "\u001b[0;31mNameError\u001b[0m                                 Traceback (most recent call last)",
            "\u001b[0;32m<ipython-input-1-4ae816055c31>\u001b[0m in \u001b[0;36m<cell line: 1>\u001b[0;34m()\u001b[0m\n\u001b[0;32m----> 1\u001b[0;31m \u001b[0mmodel\u001b[0m \u001b[0;34m=\u001b[0m \u001b[0mYOLO\u001b[0m\u001b[0;34m(\u001b[0m\u001b[0;34m'/content/runs/detect/train/weights/best.pt'\u001b[0m\u001b[0;34m)\u001b[0m\u001b[0;34m\u001b[0m\u001b[0;34m\u001b[0m\u001b[0m\n\u001b[0m\u001b[1;32m      2\u001b[0m \u001b[0;31m# model = YOLO('/content/yolov8n.pt')\u001b[0m\u001b[0;34m\u001b[0m\u001b[0;34m\u001b[0m\u001b[0m\n\u001b[1;32m      3\u001b[0m \u001b[0;34m\u001b[0m\u001b[0m\n\u001b[1;32m      4\u001b[0m \u001b[0;31m# Define path to the image file\u001b[0m\u001b[0;34m\u001b[0m\u001b[0;34m\u001b[0m\u001b[0m\n\u001b[1;32m      5\u001b[0m \u001b[0mtest_path\u001b[0m \u001b[0;34m=\u001b[0m \u001b[0;34m'/content/LogoDet_prep/images/val'\u001b[0m\u001b[0;34m\u001b[0m\u001b[0;34m\u001b[0m\u001b[0m\n",
            "\u001b[0;31mNameError\u001b[0m: name 'YOLO' is not defined"
          ]
        }
      ]
    },
    {
      "cell_type": "markdown",
      "source": [
        "# Save model to drive"
      ],
      "metadata": {
        "id": "QQgPPCRy6PRz"
      }
    },
    {
      "cell_type": "code",
      "source": [
        "import torch\n",
        "from google.colab import drive\n",
        "drive.mount('/content/gdrive')\n",
        "\n",
        "model = YOLO('/content/runs/detect/train/weights/best.pt')\n",
        "model_save_name = 'Brand-Detection64classes_11-12-2023-2214.pt' # Change every time when you want to save a new model to drive\n",
        "path = F\"/content/gdrive/My Drive/{model_save_name}\"\n",
        "torch.save(model.state_dict(), path)"
      ],
      "metadata": {
        "id": "Uv-swSmJ4IUp",
        "colab": {
          "base_uri": "https://localhost:8080/"
        },
        "outputId": "b5bc5379-1a66-4fd0-9eb5-8acd3d3c6ae6"
      },
      "execution_count": null,
      "outputs": [
        {
          "output_type": "stream",
          "name": "stdout",
          "text": [
            "Mounted at /content/gdrive\n"
          ]
        }
      ]
    },
    {
      "cell_type": "code",
      "source": [
        "# Specify the path of the folder you want to zip\n",
        "folder_path = '/content/runs/detect/train5'\n",
        "\n",
        "# Specify the path and name of the zip file you want to create\n",
        "zip_file_path = '/content/train5_11-12-2023.zip'\n",
        "\n",
        "# Create a zip file\n",
        "shutil.make_archive(zip_file_path, 'zip', folder_path)\n",
        "\n",
        "# Move the zip file to the desired location (optional)\n",
        "shutil.move(zip_file_path + '.zip', zip_file_path)"
      ],
      "metadata": {
        "id": "EPx6elbTAzoS",
        "colab": {
          "base_uri": "https://localhost:8080/",
          "height": 36
        },
        "outputId": "7b82b800-3c82-4595-cc0e-e030006e8abe"
      },
      "execution_count": null,
      "outputs": [
        {
          "output_type": "execute_result",
          "data": {
            "text/plain": [
              "'/content/train5_11-12-2023.zip'"
            ],
            "application/vnd.google.colaboratory.intrinsic+json": {
              "type": "string"
            }
          },
          "metadata": {},
          "execution_count": 16
        }
      ]
    },
    {
      "cell_type": "code",
      "source": [
        "zip_file_path = '/content/train5_11-12-2023.zip'\n",
        "save_path = F\"/content/gdrive/My Drive/train5_11-12-2023.zip\"\n",
        "shutil.move(zip_file_path, save_path)"
      ],
      "metadata": {
        "id": "IGIN7Ia4CdEV",
        "colab": {
          "base_uri": "https://localhost:8080/",
          "height": 36
        },
        "outputId": "d4e31513-f3e7-4845-c5fd-e6c0fa137e4b"
      },
      "execution_count": null,
      "outputs": [
        {
          "output_type": "execute_result",
          "data": {
            "text/plain": [
              "'/content/gdrive/My Drive/train5_11-12-2023.zip'"
            ],
            "application/vnd.google.colaboratory.intrinsic+json": {
              "type": "string"
            }
          },
          "metadata": {},
          "execution_count": 17
        }
      ]
    }
  ]
}